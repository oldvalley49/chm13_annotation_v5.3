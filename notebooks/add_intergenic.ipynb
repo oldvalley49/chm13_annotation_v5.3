{
 "cells": [
  {
   "cell_type": "code",
   "execution_count": 1,
   "id": "e727981e",
   "metadata": {},
   "outputs": [],
   "source": [
    "%load_ext autoreload\n",
    "%autoreload 2"
   ]
  },
  {
   "cell_type": "code",
   "execution_count": 8,
   "id": "b3a0eff2",
   "metadata": {},
   "outputs": [],
   "source": [
    "from mjol.base import *\n",
    "from mjol.gan import *\n",
    "from mjol.tools import *\n",
    "from collections import defaultdict\n",
    "import numpy as np"
   ]
  },
  {
   "cell_type": "code",
   "execution_count": 3,
   "id": "59f73d96",
   "metadata": {},
   "outputs": [],
   "source": [
    "o_fn = \"/ccb/salz4-3/hji20/chm13/chm13v2.0_RefSeq_Liftoff_v5.2.gff3\"\n",
    "o_chm13 = GAn(\n",
    "    file_name = o_fn,\n",
    "    file_fmt = 'gff'\n",
    ")\n",
    "o_chm13.build_db()"
   ]
  },
  {
   "cell_type": "code",
   "execution_count": 4,
   "id": "7fe80b16",
   "metadata": {},
   "outputs": [],
   "source": [
    "nw_fn = \"/ccb/salz4-3/hji20/chm13/T2T_annotation_v5.3/output/mapped_reformatted.gff\"\n",
    "nw_chm13 = GAn(\n",
    "    file_name = nw_fn,\n",
    "    file_fmt = 'gff'\n",
    ")\n",
    "nw_chm13.build_db()"
   ]
  },
  {
   "cell_type": "code",
   "execution_count": 7,
   "id": "8e5a2c10",
   "metadata": {},
   "outputs": [
    {
     "name": "stdout",
     "output_type": "stream",
     "text": [
      "61312\n"
     ]
    }
   ],
   "source": [
    "o_gene_coords = defaultdict(list)\n",
    "o_gnames = set()\n",
    "\n",
    "n_genes = 0\n",
    "for f in o_chm13.features.values():\n",
    "    if f.feature_type == \"gene\":\n",
    "        o_gene_coords[f.chr].append((f.start, f.end, f.strand))\n",
    "        if 'gene' in f.attributes:\n",
    "            gname = f.attributes['gene']\n",
    "        elif 'gene_name' in f.attributes:\n",
    "            gname = f.attributes['gene_name']\n",
    "        else:\n",
    "            gname = None\n",
    "        if not gname:\n",
    "            print(\"Error : no gene name\")\n",
    "        o_gnames.add(gname)\n",
    "        n_genes += 1\n",
    "\n",
    "print(n_genes)"
   ]
  },
  {
   "cell_type": "code",
   "execution_count": 10,
   "id": "dbea8719",
   "metadata": {},
   "outputs": [],
   "source": [
    "chr_bvecs = dict()\n",
    "\n",
    "with open('/ccb/salz4-3/hji20/hg002-q100-annotation/data/chm13v2.0.fa.fai', 'r') as fh:\n",
    "    for ln in fh:\n",
    "        temp = ln.strip().split('\\t')\n",
    "        chr_bvecs[temp[0]] = (np.zeros(int(temp[1])), np.zeros(int(temp[1])))"
   ]
  },
  {
   "cell_type": "code",
   "execution_count": 11,
   "id": "bd565ea2",
   "metadata": {},
   "outputs": [],
   "source": [
    "for chr in o_gene_coords:\n",
    "    for st, en, strand in o_gene_coords[chr]:\n",
    "        bi = 0 if strand == '+' else 1\n",
    "        chr_bvecs[chr][bi][st - 1:en] = 1"
   ]
  },
  {
   "cell_type": "code",
   "execution_count": 19,
   "id": "3789d946",
   "metadata": {},
   "outputs": [],
   "source": [
    "intergenic_ginfos = []\n",
    "for f in nw_chm13.features.values():\n",
    "    if f.feature_type == \"gene\":\n",
    "        bi = 0 if f.strand == '+' else 1\n",
    "        s = np.sum(chr_bvecs[f.chr][bi][f.start - 1:f.end])\n",
    "        if s == 0:\n",
    "            if 'gene' in f.attributes:\n",
    "                gname = f.attributes['gene']\n",
    "            elif 'gene_name' in f.attributes:\n",
    "                gname = f.attributes['gene_name']\n",
    "            else:\n",
    "                gname = None\n",
    "            if not gname:\n",
    "                print(\"Error : no gene name\")\n",
    "            if gname in o_gnames:\n",
    "                print(f\"Warning : additional copy detected for {gname}\")\n",
    "            intergenic_ginfos.append(f.uid)"
   ]
  },
  {
   "cell_type": "code",
   "execution_count": null,
   "id": "fbf50388",
   "metadata": {},
   "outputs": [],
   "source": [
    "out_fn = \"/ccb/salz4-3/hji20/chm13/out/itg.gff\"\n",
    "with open(out_fn, 'w') as fh:\n",
    "    for uid in intergenic_ginfos:\n",
    "        f = nw_chm13.features[uid]\n",
    "        f.children[0].feature_type = 'transcript'\n",
    "        out = f.to_gff_entry(\n",
    "            include_children = True\n",
    "        )\n",
    "        fh.write(out)"
   ]
  }
 ],
 "metadata": {
  "kernelspec": {
   "display_name": "mjol",
   "language": "python",
   "name": "python3"
  },
  "language_info": {
   "codemirror_mode": {
    "name": "ipython",
    "version": 3
   },
   "file_extension": ".py",
   "mimetype": "text/x-python",
   "name": "python",
   "nbconvert_exporter": "python",
   "pygments_lexer": "ipython3",
   "version": "3.13.5"
  }
 },
 "nbformat": 4,
 "nbformat_minor": 5
}
